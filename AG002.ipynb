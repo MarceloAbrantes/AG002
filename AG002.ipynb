{
 "cells": [
  {
   "cell_type": "markdown",
   "metadata": {},
   "source": [
    "# AG002\n",
    "\n",
    "#### Alunos: Marcelo Henrique Souza Abrantes e Eduardo de Souza Bazilio\n",
    "##### Professor: Renzo Paranaíba Mesquita"
   ]
  },
  {
   "cell_type": "markdown",
   "metadata": {},
   "source": [
    "##### Bibliotecas Utilizadas:"
   ]
  },
  {
   "cell_type": "code",
   "execution_count": 11,
   "metadata": {},
   "outputs": [
    {
     "name": "stdout",
     "output_type": "stream",
     "text": [
      "Requirement already satisfied: pandas in c:\\users\\marce\\appdata\\local\\packages\\pythonsoftwarefoundation.python.3.11_qbz5n2kfra8p0\\localcache\\local-packages\\python311\\site-packages (2.2.3)\n",
      "Requirement already satisfied: numpy>=1.23.2 in c:\\users\\marce\\appdata\\local\\packages\\pythonsoftwarefoundation.python.3.11_qbz5n2kfra8p0\\localcache\\local-packages\\python311\\site-packages (from pandas) (1.26.4)\n",
      "Requirement already satisfied: python-dateutil>=2.8.2 in c:\\users\\marce\\appdata\\local\\packages\\pythonsoftwarefoundation.python.3.11_qbz5n2kfra8p0\\localcache\\local-packages\\python311\\site-packages (from pandas) (2.9.0.post0)\n",
      "Requirement already satisfied: pytz>=2020.1 in c:\\users\\marce\\appdata\\local\\packages\\pythonsoftwarefoundation.python.3.11_qbz5n2kfra8p0\\localcache\\local-packages\\python311\\site-packages (from pandas) (2024.2)\n",
      "Requirement already satisfied: tzdata>=2022.7 in c:\\users\\marce\\appdata\\local\\packages\\pythonsoftwarefoundation.python.3.11_qbz5n2kfra8p0\\localcache\\local-packages\\python311\\site-packages (from pandas) (2024.2)\n",
      "Requirement already satisfied: six>=1.5 in c:\\users\\marce\\appdata\\local\\packages\\pythonsoftwarefoundation.python.3.11_qbz5n2kfra8p0\\localcache\\local-packages\\python311\\site-packages (from python-dateutil>=2.8.2->pandas) (1.16.0)\n"
     ]
    },
    {
     "name": "stderr",
     "output_type": "stream",
     "text": [
      "\n",
      "[notice] A new release of pip is available: 24.0 -> 24.3.1\n",
      "[notice] To update, run: C:\\Users\\marce\\AppData\\Local\\Microsoft\\WindowsApps\\PythonSoftwareFoundation.Python.3.11_qbz5n2kfra8p0\\python.exe -m pip install --upgrade pip\n"
     ]
    },
    {
     "name": "stdout",
     "output_type": "stream",
     "text": [
      "Requirement already satisfied: scikit-learn in c:\\users\\marce\\appdata\\local\\packages\\pythonsoftwarefoundation.python.3.11_qbz5n2kfra8p0\\localcache\\local-packages\\python311\\site-packages (1.5.2)\n",
      "Requirement already satisfied: numpy>=1.19.5 in c:\\users\\marce\\appdata\\local\\packages\\pythonsoftwarefoundation.python.3.11_qbz5n2kfra8p0\\localcache\\local-packages\\python311\\site-packages (from scikit-learn) (1.26.4)\n",
      "Requirement already satisfied: scipy>=1.6.0 in c:\\users\\marce\\appdata\\local\\packages\\pythonsoftwarefoundation.python.3.11_qbz5n2kfra8p0\\localcache\\local-packages\\python311\\site-packages (from scikit-learn) (1.13.0)\n",
      "Requirement already satisfied: joblib>=1.2.0 in c:\\users\\marce\\appdata\\local\\packages\\pythonsoftwarefoundation.python.3.11_qbz5n2kfra8p0\\localcache\\local-packages\\python311\\site-packages (from scikit-learn) (1.4.2)\n",
      "Requirement already satisfied: threadpoolctl>=3.1.0 in c:\\users\\marce\\appdata\\local\\packages\\pythonsoftwarefoundation.python.3.11_qbz5n2kfra8p0\\localcache\\local-packages\\python311\\site-packages (from scikit-learn) (3.5.0)\n"
     ]
    },
    {
     "name": "stderr",
     "output_type": "stream",
     "text": [
      "\n",
      "[notice] A new release of pip is available: 24.0 -> 24.3.1\n",
      "[notice] To update, run: C:\\Users\\marce\\AppData\\Local\\Microsoft\\WindowsApps\\PythonSoftwareFoundation.Python.3.11_qbz5n2kfra8p0\\python.exe -m pip install --upgrade pip\n"
     ]
    }
   ],
   "source": [
    "#!pip install pandas\n",
    "#!pip install scikit-learn"
   ]
  },
  {
   "cell_type": "markdown",
   "metadata": {},
   "source": [
    "### Importação de bibliotecas utilizadas no projeto:"
   ]
  },
  {
   "cell_type": "code",
   "execution_count": 12,
   "metadata": {},
   "outputs": [],
   "source": [
    "import pandas as pd\n",
    "from sklearn.model_selection import train_test_split\n",
    "from sklearn.tree import DecisionTreeClassifier\n",
    "from sklearn.metrics import classification_report"
   ]
  },
  {
   "cell_type": "markdown",
   "metadata": {},
   "source": [
    "### Leitura dos dados utilizando a biblioteca Pandas:"
   ]
  },
  {
   "cell_type": "code",
   "execution_count": 13,
   "metadata": {},
   "outputs": [
    {
     "name": "stdout",
     "output_type": "stream",
     "text": [
      "  Channel Region  Fresh  Milk  Grocery  Frozen  Detergents_Paper  Delicatessen\n",
      "0  Retail  Other  12669  9656     7561     214              2674          1338\n",
      "1  Retail  Other   7057  9810     9568    1762              3293          1776\n",
      "2  Retail  Other   6353  8808     7684    2405              3516          7844\n",
      "3  HoReCa  Other  13265  1196     4221    6404               507          1788\n",
      "4  Retail  Other  22615  5410     7198    3915              1777          5185\n"
     ]
    }
   ],
   "source": [
    "df = pd.read_csv(\"wholesale.csv\")\n",
    "print(df.head())"
   ]
  },
  {
   "attachments": {
    "image.png": {
     "image/png": "[encoded data removed]"
    }
   },
   "cell_type": "markdown",
   "metadata": {},
   "source": [
    "### Substituir valores nas colunas usando o método ***replace*** de acordo com o mapeamento:\n",
    "![image.png](attachment:image.png)"
   ]
  },
  {
   "cell_type": "code",
   "execution_count": 14,
   "metadata": {},
   "outputs": [
    {
     "name": "stdout",
     "output_type": "stream",
     "text": [
      "   Channel  Region  Fresh  Milk  Grocery  Frozen  Detergents_Paper  \\\n",
      "0        1       2  12669  9656     7561     214              2674   \n",
      "1        1       2   7057  9810     9568    1762              3293   \n",
      "2        1       2   6353  8808     7684    2405              3516   \n",
      "3        0       2  13265  1196     4221    6404               507   \n",
      "4        1       2  22615  5410     7198    3915              1777   \n",
      "\n",
      "   Delicatessen  \n",
      "0          1338  \n",
      "1          1776  \n",
      "2          7844  \n",
      "3          1788  \n",
      "4          5185  \n"
     ]
    }
   ],
   "source": [
    "pd.set_option(\"future.no_silent_downcasting\", True)\n",
    "\n",
    "df['Channel'] = df['Channel'].replace({'HoReCa': 0, 'Retail': 1}).astype(int)\n",
    "df['Region'] = df['Region'].replace({'Lisbon': 0, 'Oporto': 1, 'Other': 2}).astype(int)\n",
    "\n",
    "print(df.head())"
   ]
  },
  {
   "cell_type": "markdown",
   "metadata": {},
   "source": [
    "### Reordenar colunas usando a função ***reindex*** e o atributo ***columns***:"
   ]
  },
  {
   "cell_type": "code",
   "execution_count": 15,
   "metadata": {},
   "outputs": [
    {
     "name": "stdout",
     "output_type": "stream",
     "text": [
      "   Region  Fresh  Milk  Grocery  Frozen  Detergents_Paper  Delicatessen  \\\n",
      "0       2  12669  9656     7561     214              2674          1338   \n",
      "1       2   7057  9810     9568    1762              3293          1776   \n",
      "2       2   6353  8808     7684    2405              3516          7844   \n",
      "3       2  13265  1196     4221    6404               507          1788   \n",
      "4       2  22615  5410     7198    3915              1777          5185   \n",
      "\n",
      "   Channel  \n",
      "0        1  \n",
      "1        1  \n",
      "2        1  \n",
      "3        0  \n",
      "4        1  \n",
      "\n",
      " Index(['Region', 'Fresh', 'Milk', 'Grocery', 'Frozen', 'Detergents_Paper',\n",
      "       'Delicatessen', 'Channel'],\n",
      "      dtype='object')\n"
     ]
    }
   ],
   "source": [
    "nova_ordem_colunas = ['Region', 'Fresh', 'Milk', 'Grocery', 'Frozen', 'Detergents_Paper', 'Delicatessen', 'Channel']\n",
    "\n",
    "df = df.reindex(columns=nova_ordem_colunas)\n",
    "print(df.head())\n",
    "print('\\n',df.columns) #Print somente das colunas\n"
   ]
  },
  {
   "cell_type": "markdown",
   "metadata": {},
   "source": [
    "### Utilizar a função ***train_test_split*** para separar os dados em 80% para treinamento e 20% para testes:"
   ]
  },
  {
   "cell_type": "code",
   "execution_count": 16,
   "metadata": {},
   "outputs": [
    {
     "name": "stdout",
     "output_type": "stream",
     "text": [
      "X_train:      Region  Fresh   Milk  Grocery  Frozen  Detergents_Paper  Delicatessen\n",
      "266       0    572   9763    22182    2221              4882          2563\n",
      "294       1  21273   2013     6550     909               811          1854\n",
      "31        2   2612   4339     3133    2088               820           985\n",
      "84        2  11867   3327     4814    1178              3837           120\n",
      "301       1   5283  13316    20399    1809              8752           172\n",
      "..      ...    ...    ...      ...     ...               ...           ...\n",
      "106       2   1454   6337    10704     133              6830          1831\n",
      "270       0   4720   1032      975    5500               197            56\n",
      "348       2   3428   2380     2028    1341              1184           665\n",
      "435       2  29703  12051    16027   13135               182          2204\n",
      "102       2   2932   6459     7677    2561              4573          1386\n",
      "\n",
      "[352 rows x 7 columns]\n",
      "X_test:      Region  Fresh   Milk  Grocery  Frozen  Detergents_Paper  Delicatessen\n",
      "265       0   5909  23527    13699   10155               830          3636\n",
      "78        2  10766   1175     2067    2096               301           167\n",
      "347       2  27380   7184    12311    2809              4621          1022\n",
      "255       0  31614    489     1495    3242               111           615\n",
      "327       1    542    899     1664     414                88           522\n",
      "..      ...    ...    ...      ...     ...               ...           ...\n",
      "57        2   5417   9933    10487      38              7572          1282\n",
      "137       2   3087   8080     8282     661               721            36\n",
      "24        2  22647   9776    13792    2915              4482          5778\n",
      "17        2   5876   6157     2933     839               370          4478\n",
      "66        2      9   1534     7417     175              3468            27\n",
      "\n",
      "[88 rows x 7 columns]\n",
      "y_train: 266    1\n",
      "294    0\n",
      "31     0\n",
      "84     1\n",
      "301    1\n",
      "      ..\n",
      "106    1\n",
      "270    0\n",
      "348    0\n",
      "435    0\n",
      "102    1\n",
      "Name: Channel, Length: 352, dtype: int32\n",
      "y_test: 265    0\n",
      "78     0\n",
      "347    1\n",
      "255    0\n",
      "327    0\n",
      "      ..\n",
      "57     1\n",
      "137    0\n",
      "24     1\n",
      "17     0\n",
      "66     0\n",
      "Name: Channel, Length: 88, dtype: int32\n"
     ]
    }
   ],
   "source": [
    "X = df.drop('Channel', axis=1)  \n",
    "y = df['Channel']  \n",
    "\n",
    "X_train, X_test, y_train, y_test = train_test_split(X, y, test_size=0.2, random_state=42)\n",
    "\n",
    "print(\"X_train:\", X_train)\n",
    "print(\"X_test:\", X_test)\n",
    "print(\"y_train:\", y_train)\n",
    "print(\"y_test:\", y_test)"
   ]
  },
  {
   "cell_type": "markdown",
   "metadata": {},
   "source": [
    "### O modelo de classificação escolhido foi Decision Tree:\n",
    "\n",
    "#### - Treinar modelo com o conjunto de treinamento e classificar as amostras utilizando as funções ***fit*** e ***predict***:"
   ]
  },
  {
   "cell_type": "code",
   "execution_count": 17,
   "metadata": {},
   "outputs": [],
   "source": [
    "classifier = DecisionTreeClassifier(random_state=42)\n",
    "classifier.fit(X_train, y_train)\n",
    "\n",
    "#Fazer previsões no conjunto de teste\n",
    "y_pred = classifier.predict(X_test)"
   ]
  },
  {
   "cell_type": "markdown",
   "metadata": {},
   "source": [
    "### Exibir métricas de avaliação, para verificar a acurácia usando a função ***classification_report***:"
   ]
  },
  {
   "cell_type": "code",
   "execution_count": 18,
   "metadata": {},
   "outputs": [
    {
     "name": "stdout",
     "output_type": "stream",
     "text": [
      "              precision    recall  f1-score   support\n",
      "\n",
      "           0       0.92      0.86      0.89        65\n",
      "           1       0.67      0.78      0.72        23\n",
      "\n",
      "    accuracy                           0.84        88\n",
      "   macro avg       0.79      0.82      0.80        88\n",
      "weighted avg       0.85      0.84      0.84        88\n",
      "\n"
     ]
    }
   ],
   "source": [
    "print(classification_report(y_test, y_pred))"
   ]
  },
  {
   "cell_type": "markdown",
   "metadata": {},
   "source": [
    "### Criar uma opção que permita o usuário inserir dados que devem ser classificados pelo modelo. O modelo deve imprimir de acordo com os conhecimentos se os dados inserisos são \"HoReCa\" ou \"Retail\". Utilize as funções ***input*** e ***predict***"
   ]
  },
  {
   "cell_type": "code",
   "execution_count": 19,
   "metadata": {},
   "outputs": [
    {
     "name": "stdout",
     "output_type": "stream",
     "text": [
      "O canal de vendas previsto é: HoReCa\n"
     ]
    }
   ],
   "source": [
    "region = int(input(\"Entre com o número referente a Região (Lisbon = 0, Oporto = 1, Other = 2): \"))\n",
    "fresh = float(input(\"Entre com o gasto anual com produtos frescos: \"))\n",
    "milk = float(input(\"Entre com o gasto anual com laticínios: \"))\n",
    "grocery = float(input(\"Entre com o gasto anual com produtos de mercearia: \"))\n",
    "frozen = float(input(\"Entre com o gasto anual com produtos congelados: \"))\n",
    "detergents_paper = float(input(\"Entre com o gasto anual com detergentes e produtos de papel: \"))\n",
    "delicatessen = float(input(\"Entre com o gasto anual com guloseimas: \"))\n",
    "\n",
    "# Criação de um DataFrame temporário com os nomes das colunas\n",
    "dados_usuario = pd.DataFrame([[region, fresh, milk, grocery, frozen, detergents_paper, delicatessen]],\n",
    "                             columns=['Region', 'Fresh', 'Milk', 'Grocery', 'Frozen', 'Detergents_Paper', 'Delicatessen'])\n",
    "\n",
    "\n",
    "predicao = classifier.predict(dados_usuario)\n",
    "\n",
    "\n",
    "if predicao == 1:\n",
    "    print(\"O canal de vendas previsto é: Retail\")\n",
    "else:\n",
    "    print(\"O canal de vendas previsto é: HoReCa\")\n"
   ]
  }
 ],
 "metadata": {
  "kernelspec": {
   "display_name": "Python 3",
   "language": "python",
   "name": "python3"
  },
  "language_info": {
   "codemirror_mode": {
    "name": "ipython",
    "version": 3
   },
   "file_extension": ".py",
   "mimetype": "text/x-python",
   "name": "python",
   "nbconvert_exporter": "python",
   "pygments_lexer": "ipython3",
   "version": "3.11.9"
  }
 },
 "nbformat": 4,
 "nbformat_minor": 2
}
